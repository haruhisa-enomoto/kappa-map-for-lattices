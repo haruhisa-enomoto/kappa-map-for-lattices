{
 "cells": [
  {
   "cell_type": "markdown",
   "metadata": {},
   "source": [
    "# Kappa map for lattices\n",
    "\n",
    "This is a manual of [kappa.py](https://github.com/haruhisa-enomoto/kappa-map-for-lattices/blob/main/kappa.py), an additional module for [SageMath](https://www.sagemath.org/).\n",
    "\n",
    "AUTHOR:\n",
    "[Haruhisa Enomoto](http://haruhisa-enomoto.github.io/)\n",
    "\n",
    "REFERENCES:\n",
    "\n",
    "- [BCZ] E. Barnard, G. Todorov, S. Zhu,\n",
    "  Dynamical combinatorics and torsion classes,\n",
    "  J. Pure Appl. Algebra 225 (2021), no. 9, 106642.\n",
    "- [RST] N. Reading, D. E. Speyer, H. Thomas,\n",
    "  The fundamental theorem of finite semidistributive lattices,\n",
    "  arXiv:1907.08050."
   ]
  },
  {
   "cell_type": "markdown",
   "metadata": {},
   "source": [
    "A function `add_kappa()` in  [kappa.py](https://github.com/haruhisa-enomoto/kappa-map-for-lattices/blob/main/kappa.py) adds to a Sage class [`sage.combinat.posets.lattices.FiniteLatticePoset`](https://doc.sagemath.org/html/en/reference/combinat/sage/combinat/posets/lattices.html#sage.combinat.posets.lattices.FiniteLatticePoset) class methods\n",
    "- `kappa`\n",
    "- `extended_kappa`\n",
    "- `kappa_dual`\n",
    "- `extended_kappa_dual`\n",
    "\n",
    "To use it, first import `add_kappa` function from `kappa.py` and execute `add_kappa()`."
   ]
  },
  {
   "cell_type": "code",
   "execution_count": 1,
   "metadata": {},
   "outputs": [],
   "source": [
    "from kappa import add_kappa\n",
    "add_kappa()"
   ]
  },
  {
   "cell_type": "markdown",
   "metadata": {},
   "source": [
    "By this, we can use the above methods for an instance of a Sage class [`FiniteLatticePoset`](https://doc.sagemath.org/html/en/reference/combinat/sage/combinat/posets/lattices.html#sage.combinat.posets.lattices.FiniteLatticePoset)."
   ]
  },
  {
   "cell_type": "markdown",
   "metadata": {},
   "source": [
    "## Kappa map\n",
    "\n",
    "Let $L$ be a finite lattice. An element $j$ of $L$ is *join-irreducible*\n",
    "if $j = \\bigvee A$ for a subset $A$ of $L$ implies $j \\in A$.\n",
    "This is equivalent to that there is a unique element $j_*$ which is covered by $j$.\n",
    "Dually, we define *meet-irreducible* elements.\n",
    "\n",
    "A *kappa map $\\kappa(j)$* for a join-irreducible element $j$ of $L$ is defined, if exists, as a *maximum* element\n",
    "$x$ satisfying $j \\wedge x = j_*$. Then $\\kappa(j)$ is meet-irreducible if exists\n",
    "(see e.g. [RST, Theorem 2.28])."
   ]
  },
  {
   "cell_type": "markdown",
   "metadata": {},
   "source": [
    "### kappa(j, check = True)\n",
    "Return $\\kappa(j)$ for a join-irreducible element $j$\n",
    "of a finite lattice ``self`` if it exists.\n",
    "\n",
    "INPUT:\n",
    " - ``j`` -- an element of ``self``,\n",
    "      which is expected to be join-irreducible\n",
    "\n",
    " - ``check`` -- a Boolean (default: `True`),\n",
    "      whether to check that ``j`` is indeed join-irreducible\n",
    "\n",
    "OUTPUT:\n",
    "\n",
    "an element of ``self``, or `None` if it does not exist.\n",
    "\n",
    "#### See also\n",
    "A method [`sage.combinat.posets.hasse_diagram.HasseDiagram.kappa`](https://doc.sagemath.org/html/en/reference/combinat/sage/combinat/posets/hasse_diagram.html#sage.combinat.posets.hasse_diagram.HasseDiagram.kappa)\n",
    "\n",
    "EXAMPLE:"
   ]
  },
  {
   "cell_type": "code",
   "execution_count": 2,
   "metadata": {},
   "outputs": [
    {
     "data": {
      "image/png": "[encoded data removed]",
      "text/plain": [
       "Graphics object consisting of 11 graphics primitives"
      ]
     },
     "execution_count": 2,
     "metadata": {},
     "output_type": "execute_result"
    }
   ],
   "source": [
    "L = posets.PentagonPoset()\n",
    "L.plot(figsize = 3)"
   ]
  },
  {
   "cell_type": "code",
   "execution_count": 3,
   "metadata": {},
   "outputs": [
    {
     "data": {
      "text/plain": [
       "3"
      ]
     },
     "execution_count": 3,
     "metadata": {},
     "output_type": "execute_result"
    }
   ],
   "source": [
    "L.kappa(1)"
   ]
  },
  {
   "cell_type": "code",
   "execution_count": 4,
   "metadata": {
    "scrolled": true
   },
   "outputs": [
    {
     "ename": "ValueError",
     "evalue": "4 is not join-irreducible.",
     "output_type": "error",
     "traceback": [
      "\u001b[0;31m---------------------------------------------------------------------------\u001b[0m",
      "\u001b[0;31mValueError\u001b[0m                                Traceback (most recent call last)",
      "\u001b[0;32m<ipython-input-4-d512d9c9e07a>\u001b[0m in \u001b[0;36m<module>\u001b[0;34m()\u001b[0m\n\u001b[0;32m----> 1\u001b[0;31m \u001b[0mL\u001b[0m\u001b[0;34m.\u001b[0m\u001b[0mkappa\u001b[0m\u001b[0;34m(\u001b[0m\u001b[0mInteger\u001b[0m\u001b[0;34m(\u001b[0m\u001b[0;36m4\u001b[0m\u001b[0;34m)\u001b[0m\u001b[0;34m)\u001b[0m\u001b[0;34m\u001b[0m\u001b[0;34m\u001b[0m\u001b[0m\n\u001b[0m",
      "\u001b[0;32m/home/sage/Documents/GitHub/kappa-map-for-lattices-in-sage/kappa.py\u001b[0m in \u001b[0;36mkappa\u001b[0;34m(self, j, check)\u001b[0m\n\u001b[1;32m     38\u001b[0m \u001b[0;34m\u001b[0m\u001b[0m\n\u001b[1;32m     39\u001b[0m     \u001b[0;32mif\u001b[0m \u001b[0mcheck\u001b[0m \u001b[0;32mand\u001b[0m \u001b[0mj\u001b[0m \u001b[0;32mnot\u001b[0m \u001b[0;32min\u001b[0m \u001b[0mself\u001b[0m\u001b[0;34m.\u001b[0m\u001b[0mjoin_irreducibles\u001b[0m\u001b[0;34m(\u001b[0m\u001b[0;34m)\u001b[0m\u001b[0;34m:\u001b[0m\u001b[0;34m\u001b[0m\u001b[0;34m\u001b[0m\u001b[0m\n\u001b[0;32m---> 40\u001b[0;31m         \u001b[0;32mraise\u001b[0m \u001b[0mValueError\u001b[0m\u001b[0;34m(\u001b[0m\u001b[0;34m\"{0} is not join-irreducible.\"\u001b[0m\u001b[0;34m.\u001b[0m\u001b[0mformat\u001b[0m\u001b[0;34m(\u001b[0m\u001b[0mj\u001b[0m\u001b[0;34m)\u001b[0m\u001b[0;34m)\u001b[0m\u001b[0;34m\u001b[0m\u001b[0;34m\u001b[0m\u001b[0m\n\u001b[0m\u001b[1;32m     41\u001b[0m \u001b[0;34m\u001b[0m\u001b[0m\n\u001b[1;32m     42\u001b[0m     \u001b[0mhasse\u001b[0m \u001b[0;34m=\u001b[0m \u001b[0mself\u001b[0m\u001b[0;34m.\u001b[0m\u001b[0m_hasse_diagram\u001b[0m\u001b[0;34m\u001b[0m\u001b[0;34m\u001b[0m\u001b[0m\n",
      "\u001b[0;31mValueError\u001b[0m: 4 is not join-irreducible."
     ]
    }
   ],
   "source": [
    "L.kappa(4)"
   ]
  },
  {
   "cell_type": "code",
   "execution_count": 5,
   "metadata": {
    "scrolled": true
   },
   "outputs": [
    {
     "data": {
      "image/png": "[encoded data removed]",
      "text/plain": [
       "Graphics object consisting of 14 graphics primitives"
      ]
     },
     "execution_count": 5,
     "metadata": {},
     "output_type": "execute_result"
    }
   ],
   "source": [
    "L_new = LatticePoset({1: [2, 3], 2: [4, 5], 3: [6], 4: [6], 5: [6]})\n",
    "L_new.plot(figsize = 4)"
   ]
  },
  {
   "cell_type": "code",
   "execution_count": 6,
   "metadata": {},
   "outputs": [
    {
     "data": {
      "text/plain": [
       "3"
      ]
     },
     "execution_count": 6,
     "metadata": {},
     "output_type": "execute_result"
    }
   ],
   "source": [
    "L_new.kappa(2)"
   ]
  },
  {
   "cell_type": "code",
   "execution_count": 7,
   "metadata": {
    "scrolled": true
   },
   "outputs": [
    {
     "data": {
      "text/plain": [
       "True"
      ]
     },
     "execution_count": 7,
     "metadata": {},
     "output_type": "execute_result"
    }
   ],
   "source": [
    "L_new.kappa(3) is None"
   ]
  },
  {
   "cell_type": "markdown",
   "metadata": {},
   "source": [
    "## Dual kappa map\n",
    "\n",
    "Let $m$ be a meet-irreducible element in a finite lattice $L$, and $m_*$ a unique element covering $m$.\n",
    "A *dual kappa map $\\kappa^d(m)$* for a meet-irreducible element $j$ of $L$ is defined, if exists, as a *minimum* element\n",
    "$x$ satisfying $x \\vee m = m_*$. Then $\\kappa^d(m)$ is join-irreducible if exists.\n",
    "Moreover, $\\kappa$ and $\\kappa^d$ are mutually inverse bijecionts between the set of join-irreducibles and meet-irreducibles if and only if\n",
    "$L$ is semidistributive, see e.g. [RST Corollary 2.29]."
   ]
  },
  {
   "cell_type": "markdown",
   "metadata": {},
   "source": [
    "### kappa_dual(m, check = True)\n",
    "Return $\\kappa^d(m)$ for a meet-irreducible element $m$\n",
    "in a finite lattice if it exists.\n",
    "\n",
    "INPUT:\n",
    " - ``m`` -- an element of ``self``,\n",
    "      which is expected to be meet-irreducible\n",
    "\n",
    " - ``check`` -- a Boolean (default: `True`),\n",
    "      whether to check that ``m`` is indeed join-irreducible\n",
    "\n",
    "OUTPUT:\n",
    "\n",
    "an element of ``self``, or `None` if it does not exist.\n",
    "\n",
    "#### See also\n",
    "A method [`sage.combinat.posets.hasse_diagram.HasseDiagram.kappa_dual`](https://doc.sagemath.org/html/en/reference/combinat/sage/combinat/posets/hasse_diagram.html#sage.combinat.posets.hasse_diagram.HasseDiagram.kappa_dual)\n",
    "\n",
    "EXAMPLE:"
   ]
  },
  {
   "cell_type": "code",
   "execution_count": 8,
   "metadata": {},
   "outputs": [
    {
     "data": {
      "text/plain": [
       "1"
      ]
     },
     "execution_count": 8,
     "metadata": {},
     "output_type": "execute_result"
    }
   ],
   "source": [
    "L = posets.PentagonPoset()\n",
    "L.kappa_dual(3)"
   ]
  },
  {
   "cell_type": "markdown",
   "metadata": {},
   "source": [
    "## Extended (dual) kappa map\n",
    "\n",
    "An *extended kappa map $\\overline{\\kappa}(x)$* for an element $x$ of a finite lattice $L$ is defined as follows. First, let $x = j_1 \\vee \\cdots \\vee j_n$ be a canonical join representation of $x$ if exists. Then $\\overline{\\kappa}(x) := \\kappa(j_1) \\wedge \\cdots \\wedge \\kappa(j_n)$ if $\\kappa(j_1), \\dots, \\kappa(j_n)$ are defined. This map is well-defined if $L$ is semidistributive.\n",
    "\n",
    "An *extended dual kappa map* $\\overline{\\kappa^d}(x)$ is defined completely dually. This map is well-defined and is an inverse of $\\overline{\\kappa}$ if $L$ is semidistributive."
   ]
  },
  {
   "cell_type": "markdown",
   "metadata": {},
   "source": [
    "### extended_kappa(x)\n",
    "Return $\\overline{\\kappa}(x)$ for an element $x$\n",
    "of a finite lattice ``self`` if it exists.\n",
    "\n",
    "INPUT:\n",
    "\n",
    "- ``x`` -- an element of ``self``\n",
    "\n",
    "OUTPUT:\n",
    "\n",
    "an element of ``self``, or `None` if it does not exist.\n",
    "\n",
    "REFERENCE:\n",
    "\n",
    "- [BCZ Definition 4.4.1]"
   ]
  },
  {
   "cell_type": "code",
   "execution_count": 9,
   "metadata": {},
   "outputs": [
    {
     "data": {
      "image/png": "[encoded data removed]",
      "text/plain": [
       "Graphics object consisting of 11 graphics primitives"
      ]
     },
     "execution_count": 9,
     "metadata": {},
     "output_type": "execute_result"
    }
   ],
   "source": [
    "L = posets.PentagonPoset()\n",
    "L.plot(figsize = 4)"
   ]
  },
  {
   "cell_type": "code",
   "execution_count": 10,
   "metadata": {
    "scrolled": false
   },
   "outputs": [
    {
     "name": "stdout",
     "output_type": "stream",
     "text": [
      "extended_kappa(0) is 4\n",
      "extended_kappa(1) is 3\n",
      "extended_kappa(2) is 1\n",
      "extended_kappa(3) is 2\n",
      "extended_kappa(4) is 0\n"
     ]
    }
   ],
   "source": [
    "for x in L:\n",
    "    print(f\"extended_kappa({x}) is {L.extended_kappa(x)}\")"
   ]
  },
  {
   "cell_type": "markdown",
   "metadata": {},
   "source": [
    "### extended_kappa_dual(x)\n",
    "Return $\\overline{\\kappa^d}(x)$ for an element $x$\n",
    "in a finite lattice ``self`` if it exists.\n",
    "\n",
    "INPUT:\n",
    "\n",
    "- ``x`` -- an element of ``self``\n",
    "\n",
    "OUTPUT:\n",
    "\n",
    "an element of ``self``, or `None` if it does not exist.\n",
    "\n",
    "REFERENCE:\n",
    "\n",
    "- [BCZ Definition 4.4.1]\n",
    "\n",
    "EXAMPLE:"
   ]
  },
  {
   "cell_type": "code",
   "execution_count": 11,
   "metadata": {},
   "outputs": [
    {
     "name": "stdout",
     "output_type": "stream",
     "text": [
      "extended_kappa_dual(0) is 4\n",
      "extended_kappa_dual(1) is 2\n",
      "extended_kappa_dual(2) is 3\n",
      "extended_kappa_dual(3) is 1\n",
      "extended_kappa_dual(4) is 0\n"
     ]
    }
   ],
   "source": [
    "L = posets.PentagonPoset()\n",
    "for x in L:\n",
    "    print(f\"extended_kappa_dual({x}) is {L.extended_kappa_dual(x)}\")"
   ]
  }
 ],
 "metadata": {
  "kernelspec": {
   "display_name": "SageMath 9.1",
   "language": "sage",
   "name": "sagemath"
  },
  "language_info": {
   "codemirror_mode": {
    "name": "ipython",
    "version": 3
   },
   "file_extension": ".py",
   "mimetype": "text/x-python",
   "name": "python",
   "nbconvert_exporter": "python",
   "pygments_lexer": "ipython3",
   "version": "3.7.3"
  }
 },
 "nbformat": 4,
 "nbformat_minor": 2
}
